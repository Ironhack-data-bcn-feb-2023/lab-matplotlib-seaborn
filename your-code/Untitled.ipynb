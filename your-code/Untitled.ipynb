{
 "cells": [
  {
   "cell_type": "code",
   "execution_count": 37,
   "id": "df0e9057",
   "metadata": {},
   "outputs": [],
   "source": [
    "def shark(pontoon_distance, shark_distance, you_speed, shark_speed, dolphin):\n",
    "    if dolphin == True:\n",
    "        D = 2\n",
    "    if dolphin == False:\n",
    "        D = 1\n",
    "    if (shark_distance / (shark_speed/D)) <= (pontoon_distance / you_speed):\n",
    "        return 'Shark Bait!' \n",
    "    return 'Alive'"
   ]
  },
  {
   "cell_type": "code",
   "execution_count": 39,
   "id": "e72f8716",
   "metadata": {},
   "outputs": [],
   "source": [
    "shark(10, 5, 10, 2, True)"
   ]
  },
  {
   "cell_type": "code",
   "execution_count": 81,
   "id": "2edcecef",
   "metadata": {},
   "outputs": [],
   "source": [
    "def warn_the_sheep(queue):\n",
    "    for i in queue:\n",
    "        if i[-1] == 'wolf':\n",
    "            print('Pls go away and stop eating my sheep')\n",
    "        else:\n",
    "            if i == 'wolf':\n",
    "                wolf = queue.index(i)\n",
    "                print (f'Oi! Sheep number {wolf-1}! You are about to be eaten by a wolf!')"
   ]
  },
  {
   "cell_type": "code",
   "execution_count": 82,
   "id": "7c854e82",
   "metadata": {},
   "outputs": [
    {
     "name": "stdout",
     "output_type": "stream",
     "text": [
      "Oi! Sheep number 1! You are about to be eaten by a wolf!\n"
     ]
    }
   ],
   "source": [
    "warn_the_sheep([\"sheep\", \"sheep\", \"wolf\"])"
   ]
  },
  {
   "cell_type": "code",
   "execution_count": null,
   "id": "e14349ea",
   "metadata": {},
   "outputs": [],
   "source": []
  }
 ],
 "metadata": {
  "kernelspec": {
   "display_name": "Python 3 (ipykernel)",
   "language": "python",
   "name": "python3"
  },
  "language_info": {
   "codemirror_mode": {
    "name": "ipython",
    "version": 3
   },
   "file_extension": ".py",
   "mimetype": "text/x-python",
   "name": "python",
   "nbconvert_exporter": "python",
   "pygments_lexer": "ipython3",
   "version": "3.9.13"
  }
 },
 "nbformat": 4,
 "nbformat_minor": 5
}
